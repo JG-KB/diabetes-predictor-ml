{
 "cells": [
  {
   "cell_type": "code",
   "execution_count": 2,
   "metadata": {},
   "outputs": [],
   "source": [
    "import pandas as pd\n",
    "from sklearn.model_selection import train_test_split\n",
    "from sklearn.preprocessing import StandardScaler\n",
    "from sklearn.pipeline import Pipeline\n",
    "from sklearn.linear_model import LogisticRegression\n",
    "from sklearn.metrics import accuracy_score, classification_report,confusion_matrix\n",
    "from sklearn.svm import SVC\n",
    "from sklearn.tree import DecisionTreeClassifier\n",
    "from sklearn.neighbors import KNeighborsClassifier\n",
    "from sklearn.ensemble import RandomForestClassifier, ExtraTreesClassifier, GradientBoostingClassifier, AdaBoostClassifier\n"
   ]
  },
  {
   "cell_type": "code",
   "execution_count": 3,
   "metadata": {},
   "outputs": [],
   "source": [
    "#import dataset from Resources Folder\n",
    "file = \"Resources/diabetes_data_cleaned.csv\"\n",
    "df = pd.read_csv(file)"
   ]
  },
  {
   "cell_type": "code",
   "execution_count": 4,
   "metadata": {},
   "outputs": [],
   "source": [
    "# Separate the features (X) and target (y) variable\n",
    "X = df.drop('DiabetesDiagnosis', axis=1)\n",
    "y = df['DiabetesDiagnosis']\n",
    "\n",
    "# Split the data into training and testing sets (80-20 split)\n",
    "X_train, X_test, y_train, y_test = train_test_split(X, y, test_size=0.2, random_state=42)\n"
   ]
  },
  {
   "cell_type": "code",
   "execution_count": 5,
   "metadata": {},
   "outputs": [],
   "source": [
    "# Define pipelines for each model\n",
    "\n",
    "random_forest_pipeline = Pipeline([\n",
    "    ('random_forest', RandomForestClassifier(random_state=42))\n",
    "])\n",
    "\n",
    "\n",
    "gradient_boosting_pipeline = Pipeline([\n",
    "    ('gradient_boosting', GradientBoostingClassifier(random_state=42))\n",
    "])\n",
    "\n",
    "\n",
    "\n",
    "\n",
    "# Dictionary of pipelines for easier iteration\n",
    "pipelines = {\n",
    "    'Random Forest': random_forest_pipeline,\n",
    "    'Gradient Boosting': gradient_boosting_pipeline\n",
    "}\n"
   ]
  },
  {
   "cell_type": "code",
   "execution_count": 6,
   "metadata": {},
   "outputs": [
    {
     "name": "stdout",
     "output_type": "stream",
     "text": [
      "Random Forest Training Accuracy: 0.972\n",
      "Random Forest Test Accuracy: 0.728\n",
      "Gradient Boosting Training Accuracy: 0.754\n",
      "Gradient Boosting Test Accuracy: 0.753\n"
     ]
    }
   ],
   "source": [
    "# Train each pipeline and evaluate accuracy\n",
    "for model_name, pipeline in pipelines.items():\n",
    "    # Train the model\n",
    "    pipeline.fit(X_train, y_train)\n",
    "    \n",
    "    # Evaluate accuracy\n",
    "    train_accuracy = pipeline.score(X_train, y_train)\n",
    "    test_accuracy = pipeline.score(X_test, y_test)\n",
    "    \n",
    "    # Print the results\n",
    "    print(f\"{model_name} Training Accuracy: {train_accuracy:.3f}\")\n",
    "    print(f\"{model_name} Test Accuracy: {test_accuracy:.3f}\")"
   ]
  },
  {
   "cell_type": "code",
   "execution_count": 7,
   "metadata": {},
   "outputs": [
    {
     "name": "stdout",
     "output_type": "stream",
     "text": [
      "              precision    recall  f1-score   support\n",
      "\n",
      "         0.0       0.78      0.71      0.75      7090\n",
      "         1.0       0.73      0.80      0.77      7049\n",
      "\n",
      "    accuracy                           0.76     14139\n",
      "   macro avg       0.76      0.76      0.76     14139\n",
      "weighted avg       0.76      0.76      0.76     14139\n",
      "\n",
      "Accuracy: 0.756\n"
     ]
    }
   ],
   "source": [
    "#create the model\n",
    "model = GradientBoostingClassifier(\n",
    "    learning_rate=0.1,\n",
    "    max_depth=3,\n",
    "    min_samples_split=5,\n",
    "    n_estimators=200,\n",
    "    subsample=0.8,\n",
    "    random_state=42\n",
    "    )\n",
    "\n",
    "#fit the model\n",
    "model.fit(X_train, y_train)\n",
    "\n",
    "#predict the model\n",
    "y_pred = model.predict(X_test)\n",
    "\n",
    "#evaluate the model\n",
    "print(classification_report(y_test, y_pred))\n",
    "\n",
    "#print the accuracy\n",
    "print(f\"Accuracy: {accuracy_score(y_test, y_pred):.3f}\")\n"
   ]
  },
  {
   "cell_type": "markdown",
   "metadata": {},
   "source": []
  }
 ],
 "metadata": {
  "kernelspec": {
   "display_name": "dev",
   "language": "python",
   "name": "python3"
  },
  "language_info": {
   "codemirror_mode": {
    "name": "ipython",
    "version": 3
   },
   "file_extension": ".py",
   "mimetype": "text/x-python",
   "name": "python",
   "nbconvert_exporter": "python",
   "pygments_lexer": "ipython3",
   "version": "3.10.14"
  }
 },
 "nbformat": 4,
 "nbformat_minor": 2
}
