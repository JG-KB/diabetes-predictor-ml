{
 "cells": [
  {
   "cell_type": "code",
   "execution_count": null,
   "metadata": {
    "vscode": {
     "languageId": "plaintext"
    }
   },
   "outputs": [],
   "source": [
    "import pandas as pd\n",
    "from sklearn.model_selection import train_test_split\n",
    "from sklearn.preprocessing import StandardScaler\n",
    "from sklearn.pipeline import Pipeline\n",
    "from sklearn.linear_model import LogisticRegression\n",
    "from sklearn.svm import SVC\n",
    "from sklearn.tree import DecisionTreeClassifier\n",
    "from sklearn.neighbors import KNeighborsClassifier\n",
    "from sklearn.ensemble import RandomForestClassifier, ExtraTreesClassifier, GradientBoostingClassifier, AdaBoostClassifier\n"
   ]
  },
  {
   "cell_type": "code",
   "execution_count": null,
   "metadata": {
    "vscode": {
     "languageId": "plaintext"
    }
   },
   "outputs": [],
   "source": [
    "#import dataset from Resources Folder\n",
    "file = \"Resources/diabetes_data_cleaned.csv\"\n",
    "df = pd.read_csv(file)"
   ]
  },
  {
   "cell_type": "code",
   "execution_count": null,
   "metadata": {
    "vscode": {
     "languageId": "plaintext"
    }
   },
   "outputs": [],
   "source": [
    "# Separate the features (X) and target (y) variable\n",
    "X = df.drop('DiabetesDiagnosis', axis=1)\n",
    "y = df['DiabetesDiagnosis']\n",
    "\n",
    "# Split the data into training and testing sets (80-20 split)\n",
    "X_train, X_test, y_train, y_test = train_test_split(X, y, test_size=0.2, random_state=42)\n"
   ]
  },
  {
   "cell_type": "code",
   "execution_count": null,
   "metadata": {
    "vscode": {
     "languageId": "plaintext"
    }
   },
   "outputs": [],
   "source": [
    "# Define pipelines for each model\n",
    "\n",
    "random_forest_pipeline = Pipeline([\n",
    "    ('random_forest', RandomForestClassifier(random_state=42))\n",
    "])\n",
    "\n",
    "\n",
    "gradient_boosting_pipeline = Pipeline([\n",
    "    ('gradient_boosting', GradientBoostingClassifier(random_state=42))\n",
    "])\n",
    "\n",
    "\n",
    "\n",
    "\n",
    "# Dictionary of pipelines for easier iteration\n",
    "pipelines = {\n",
    "    'Random Forest': random_forest_pipeline,\n",
    "    'Gradient Boosting': gradient_boosting_pipeline\n",
    "}\n"
   ]
  },
  {
   "cell_type": "code",
   "execution_count": null,
   "metadata": {
    "vscode": {
     "languageId": "plaintext"
    }
   },
   "outputs": [],
   "source": [
    "# Train each pipeline and evaluate accuracy\n",
    "for model_name, pipeline in pipelines.items():\n",
    "    # Train the model\n",
    "    pipeline.fit(X_train, y_train)\n",
    "    \n",
    "    # Evaluate accuracy\n",
    "    train_accuracy = pipeline.score(X_train, y_train)\n",
    "    test_accuracy = pipeline.score(X_test, y_test)\n",
    "    \n",
    "    # Print the results\n",
    "    print(f\"{model_name} Training Accuracy: {train_accuracy:.3f}\")\n",
    "    print(f\"{model_name} Test Accuracy: {test_accuracy:.3f}\")"
   ]
  },
  {
   "cell_type": "markdown",
   "metadata": {},
   "source": []
  }
 ],
 "metadata": {
  "language_info": {
   "name": "python"
  }
 },
 "nbformat": 4,
 "nbformat_minor": 2
}
